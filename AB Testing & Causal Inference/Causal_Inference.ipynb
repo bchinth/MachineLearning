{
 "cells": [
  {
   "cell_type": "markdown",
   "metadata": {},
   "source": [
    "## 423 - HW1\n",
    "### Blessy Chinthapalli"
   ]
  },
  {
   "cell_type": "markdown",
   "metadata": {},
   "source": [
    "## Exercise 1: Game Fun: Customer Acquisition through Digital Advertising"
   ]
  },
  {
   "cell_type": "code",
   "execution_count": 2,
   "metadata": {},
   "outputs": [
    {
     "data": {
      "text/html": [
       "<div>\n",
       "<style scoped>\n",
       "    .dataframe tbody tr th:only-of-type {\n",
       "        vertical-align: middle;\n",
       "    }\n",
       "\n",
       "    .dataframe tbody tr th {\n",
       "        vertical-align: top;\n",
       "    }\n",
       "\n",
       "    .dataframe thead th {\n",
       "        text-align: right;\n",
       "    }\n",
       "</style>\n",
       "<table border=\"1\" class=\"dataframe\">\n",
       "  <thead>\n",
       "    <tr style=\"text-align: right;\">\n",
       "      <th></th>\n",
       "      <th>id</th>\n",
       "      <th>test</th>\n",
       "      <th>purchase</th>\n",
       "      <th>site</th>\n",
       "      <th>impressions</th>\n",
       "      <th>income</th>\n",
       "      <th>gender</th>\n",
       "      <th>gamer</th>\n",
       "    </tr>\n",
       "  </thead>\n",
       "  <tbody>\n",
       "    <tr>\n",
       "      <th>0</th>\n",
       "      <td>1956</td>\n",
       "      <td>0</td>\n",
       "      <td>0</td>\n",
       "      <td>site1</td>\n",
       "      <td>0</td>\n",
       "      <td>100</td>\n",
       "      <td>1</td>\n",
       "      <td>0</td>\n",
       "    </tr>\n",
       "    <tr>\n",
       "      <th>1</th>\n",
       "      <td>45821</td>\n",
       "      <td>1</td>\n",
       "      <td>0</td>\n",
       "      <td>site1</td>\n",
       "      <td>20</td>\n",
       "      <td>70</td>\n",
       "      <td>1</td>\n",
       "      <td>0</td>\n",
       "    </tr>\n",
       "    <tr>\n",
       "      <th>2</th>\n",
       "      <td>59690</td>\n",
       "      <td>1</td>\n",
       "      <td>0</td>\n",
       "      <td>site1</td>\n",
       "      <td>22</td>\n",
       "      <td>100</td>\n",
       "      <td>1</td>\n",
       "      <td>0</td>\n",
       "    </tr>\n",
       "    <tr>\n",
       "      <th>3</th>\n",
       "      <td>18851</td>\n",
       "      <td>0</td>\n",
       "      <td>0</td>\n",
       "      <td>site1</td>\n",
       "      <td>13</td>\n",
       "      <td>90</td>\n",
       "      <td>1</td>\n",
       "      <td>0</td>\n",
       "    </tr>\n",
       "    <tr>\n",
       "      <th>4</th>\n",
       "      <td>60647</td>\n",
       "      <td>1</td>\n",
       "      <td>0</td>\n",
       "      <td>site1</td>\n",
       "      <td>12</td>\n",
       "      <td>60</td>\n",
       "      <td>1</td>\n",
       "      <td>0</td>\n",
       "    </tr>\n",
       "  </tbody>\n",
       "</table>\n",
       "</div>"
      ],
      "text/plain": [
       "      id  test  purchase   site  impressions  income  gender  gamer\n",
       "0   1956     0         0  site1            0     100       1      0\n",
       "1  45821     1         0  site1           20      70       1      0\n",
       "2  59690     1         0  site1           22     100       1      0\n",
       "3  18851     0         0  site1           13      90       1      0\n",
       "4  60647     1         0  site1           12      60       1      0"
      ]
     },
     "execution_count": 2,
     "metadata": {},
     "output_type": "execute_result"
    }
   ],
   "source": [
    "import pandas as pd\n",
    "\n",
    "# Load the data\n",
    "data = pd.read_excel('GameFun.xlsx')\n",
    "\n",
    "data.head()"
   ]
  },
  {
   "cell_type": "code",
   "execution_count": 3,
   "metadata": {},
   "outputs": [
    {
     "name": "stdout",
     "output_type": "stream",
     "text": [
      "Group_means :\n",
      "          income    gender     gamer\n",
      "test                               \n",
      "0     55.166012  0.647905  0.601823\n",
      "1     54.938236  0.647289  0.601331\n",
      "Percent_diff income   -0.412890\n",
      "gender   -0.095049\n",
      "gamer    -0.081720\n",
      "dtype: float64\n",
      "TtestResult(statistic=-1.5238055388794196, pvalue=0.12757124641315226, df=22666.753090524868)\n",
      "TtestResult(statistic=-0.11806188043361146, pvalue=0.9060196778523593, df=22568.271654365355)\n",
      "TtestResult(statistic=-0.09200032581416154, pvalue=0.9266985974352482, df=22564.381288798413)\n"
     ]
    }
   ],
   "source": [
    "from scipy import stats\n",
    "\n",
    "# Compute means for test and control groups\n",
    "group_means = data.groupby('test')[['income', 'gender', 'gamer']].mean()\n",
    "\n",
    "# Compute the percentage difference in means\n",
    "percent_diff = (group_means.loc[1] - group_means.loc[0]) / group_means.loc[0] * 100\n",
    "\n",
    "# T-tests for income, gender, and gamer status\n",
    "t_income = stats.ttest_ind(data[data['test'] == 1]['income'], data[data['test'] == 0]['income'], equal_var=False)\n",
    "t_gender = stats.ttest_ind(data[data['test'] == 1]['gender'], data[data['test'] == 0]['gender'], equal_var=False)\n",
    "t_gamer = stats.ttest_ind(data[data['test'] == 1]['gamer'], data[data['test'] == 0]['gamer'], equal_var=False)\n",
    "\n",
    "print(\"Group_means :\\n\", group_means)\n",
    "print(\"Percent_diff\",percent_diff)\n",
    "print(t_income)\n",
    "print(t_gender)\n",
    "print(t_gamer)\n"
   ]
  },
  {
   "cell_type": "markdown",
   "metadata": {},
   "source": [
    "Part 2"
   ]
  },
  {
   "cell_type": "code",
   "execution_count": 22,
   "metadata": {},
   "outputs": [
    {
     "name": "stdout",
     "output_type": "stream",
     "text": [
      "Comaprision 1: Average purchase rate all customers\n",
      "Average purchase rate for the test group (all customers): 0.0768\n",
      "Average purchase rate for the control group (all customers): 0.0362\n",
      "Absolute difference between the test and control purchase rates (all customers): 0.0406\n"
     ]
    }
   ],
   "source": [
    "# Comaprision 1: Average purchase rate all customers\n",
    "\n",
    "import pandas as pd\n",
    "\n",
    "# Subset the data for the test and control groups\n",
    "test_data = data[data['test'] == 1]\n",
    "control_data = data[data['test'] == 0]\n",
    "\n",
    "#  average purchase rate \n",
    "test_purchase_rate_all = test_data['purchase'].mean()\n",
    "control_purchase_rate_all = control_data['purchase'].mean()\n",
    "\n",
    "# absolute difference between the test and control purchase rates\n",
    "diff_all = abs(test_purchase_rate_all - control_purchase_rate_all)\n",
    "\n",
    "# Print the results\n",
    "print(\"Comaprision 1: Average purchase rate all customers\")\n",
    "print(\"Average purchase rate for the test group (all customers):\", round(test_purchase_rate_all, 4))\n",
    "print(\"Average purchase rate for the control group (all customers):\", round(control_purchase_rate_all, 4))\n",
    "print(\"Absolute difference between the test and control purchase rates (all customers):\", round(diff_all, 4))\n"
   ]
  },
  {
   "cell_type": "code",
   "execution_count": 24,
   "metadata": {},
   "outputs": [
    {
     "name": "stdout",
     "output_type": "stream",
     "text": [
      "Comparison 2: Male vs Female customers \n",
      "\n",
      "Average purchase rate for the test group (male customers): 0.0746\n",
      "Average purchase rate for the control group (male customers): 0.0372\n",
      "Absolute difference between the test and control purchase rates (male customers): 0.0374\n",
      "\n",
      "Average purchase rate for the test group (female customers): 0.0809\n",
      "Average purchase rate for the control group (female customers): 0.0344\n",
      "Absolute difference between the test and control purchase rates (female customers): 0.0465\n"
     ]
    }
   ],
   "source": [
    "# Comparison 2: Male vs Female customers \n",
    "print(\"Comparison 2: Male vs Female customers \")\n",
    "\n",
    "import pandas as pd\n",
    "\n",
    "## Male\n",
    "# Subset the data for the test and control groups\n",
    "test_data_male = test_data[test_data['gender'] == 1]\n",
    "control_data_male = control_data[control_data['gender'] == 1]\n",
    "\n",
    "\n",
    "test_purchase_rate_male = test_data_male['purchase'].mean()\n",
    "control_purchase_rate_male = control_data_male['purchase'].mean()\n",
    "\n",
    "\n",
    "diff_male = abs(test_purchase_rate_male - control_purchase_rate_male)\n",
    "\n",
    "# Print the results\n",
    "print(\"\\nAverage purchase rate for the test group (male customers):\", round(test_purchase_rate_male, 4))\n",
    "print(\"Average purchase rate for the control group (male customers):\", round(control_purchase_rate_male, 4))\n",
    "print(\"Absolute difference between the test and control purchase rates (male customers):\", round(diff_male, 4))\n",
    "\n",
    "## Female\n",
    "# Subset the data for the test and control groups\n",
    "test_data_female = test_data[test_data['gender'] == 0]\n",
    "control_data_female = control_data[control_data['gender'] == 0]\n",
    "\n",
    "\n",
    "test_purchase_rate_female = test_data_female['purchase'].mean()\n",
    "control_purchase_rate_female = control_data_female['purchase'].mean()\n",
    "\n",
    "\n",
    "diff_female = abs(test_purchase_rate_female - control_purchase_rate_female)\n",
    "\n",
    "# Print the results\n",
    "print(\"\\nAverage purchase rate for the test group (female customers):\", round(test_purchase_rate_female, 4))\n",
    "print(\"Average purchase rate for the control group (female customers):\", round(control_purchase_rate_female, 4))\n",
    "print(\"Absolute difference between the test and control purchase rates (female customers):\", round(diff_female, 4))\n"
   ]
  },
  {
   "cell_type": "code",
   "execution_count": 26,
   "metadata": {},
   "outputs": [
    {
     "name": "stdout",
     "output_type": "stream",
     "text": [
      "Comparison 3: Gamers vs Non-Gamers Customers \n",
      "\n",
      "Average purchase rate for the test group (gamer customers): 0.1045\n",
      "Average purchase rate for the control group (gamer customers): 0.0354\n",
      "Absolute difference between the test and control purchase rates (gamer customers): 0.0691\n",
      "\n",
      "Average purchase rate for the test group (non-gamer customers): 0.0351\n",
      "Average purchase rate for the control group (non-gamer customers): 0.0374\n",
      "Absolute difference between the test and control purchase rates (non-gamer customers): 0.0023\n"
     ]
    }
   ],
   "source": [
    "# Comparison 3: Gamers vs Non-Gamers Customers \n",
    "print(\"Comparison 3: Gamers vs Non-Gamers Customers \")\n",
    "import pandas as pd\n",
    "\n",
    "\n",
    "## Gamer\n",
    "# Subset the data for the test and control groups\n",
    "test_data_gamer = test_data[test_data['gamer'] == 1]\n",
    "control_data_gamer = control_data[control_data['gamer'] == 1]\n",
    "\n",
    "test_purchase_rate_gamer = test_data_gamer['purchase'].mean()\n",
    "control_purchase_rate_gamer = control_data_gamer['purchase'].mean()\n",
    "\n",
    "diff_gamer = abs(test_purchase_rate_gamer - control_purchase_rate_gamer)\n",
    "\n",
    "# Print the results\n",
    "print(\"\\nAverage purchase rate for the test group (gamer customers):\", round(test_purchase_rate_gamer, 4))\n",
    "print(\"Average purchase rate for the control group (gamer customers):\", round(control_purchase_rate_gamer, 4))\n",
    "print(\"Absolute difference between the test and control purchase rates (gamer customers):\", round(diff_gamer, 4))\n",
    "\n",
    "\n",
    "## Non-gamer\n",
    "# Subset the data for the test and control groups\n",
    "test_data_non_gamer = test_data[test_data['gamer'] == 0]\n",
    "control_data_non_gamer = control_data[control_data['gamer'] == 0]\n",
    "\n",
    "test_purchase_rate_non_gamer = test_data_non_gamer['purchase'].mean()\n",
    "control_purchase_rate_non_gamer = control_data_non_gamer['purchase'].mean()\n",
    "\n",
    "diff_non_gamer = abs(test_purchase_rate_non_gamer - control_purchase_rate_non_gamer)\n",
    "\n",
    "# Print the results\n",
    "print(\"\\nAverage purchase rate for the test group (non-gamer customers):\", round(test_purchase_rate_non_gamer, 4))\n",
    "print(\"Average purchase rate for the control group (non-gamer customers):\", round(control_purchase_rate_non_gamer, 4))\n",
    "print(\"Absolute difference between the test and control purchase rates (non-gamer customers):\", round(diff_non_gamer, 4))\n"
   ]
  },
  {
   "cell_type": "code",
   "execution_count": 28,
   "metadata": {},
   "outputs": [
    {
     "name": "stdout",
     "output_type": "stream",
     "text": [
      "Comparison 4: Female Gamers vs Male Gamers\n",
      "\n",
      "Average purchase rate for the test group (female gamer customers): 0.1101\n",
      "Average purchase rate for the control group (female gamer customers): 0.032\n",
      "Absolute difference between the test and control purchase rates (female gamer customers): 0.0781\n",
      "\n",
      "Average purchase rate for the test group (male gamer customers): 0.1014\n",
      "Average purchase rate for the control group (male gamer customers): 0.0373\n",
      "Absolute difference between the test and control purchase rates (male gamer customers): 0.0641\n"
     ]
    }
   ],
   "source": [
    "#Comparison 4: Female Gamers vs Male Gamers\n",
    "print(\"Comparison 4: Female Gamers vs Male Gamers\")\n",
    "import pandas as pd\n",
    "\n",
    "\n",
    "## Female Gamers\n",
    "test_data_female_gamer = test_data[(test_data['gamer'] == 1) & (test_data['gender'] == 0)]\n",
    "control_data_female_gamer = control_data[(control_data['gamer'] == 1) & (control_data['gender'] == 0)]\n",
    "\n",
    "test_purchase_rate_female_gamer = test_data_female_gamer['purchase'].mean()\n",
    "control_purchase_rate_female_gamer = control_data_female_gamer['purchase'].mean()\n",
    "\n",
    "diff_female_gamer = abs(test_purchase_rate_female_gamer - control_purchase_rate_female_gamer)\n",
    "\n",
    "# Print the results\n",
    "print(\"\\nAverage purchase rate for the test group (female gamer customers):\", round(test_purchase_rate_female_gamer, 4))\n",
    "print(\"Average purchase rate for the control group (female gamer customers):\", round(control_purchase_rate_female_gamer, 4))\n",
    "print(\"Absolute difference between the test and control purchase rates (female gamer customers):\", round(diff_female_gamer, 4))\n",
    "\n",
    "## Male Gamers\n",
    "\n",
    "test_data_male_gamer = test_data[(test_data['gamer'] == 1) & (test_data['gender'] == 1)]\n",
    "control_data_male_gamer = control_data[(control_data['gamer'] == 1) & (control_data['gender'] == 1)]\n",
    "\n",
    "test_purchase_rate_male_gamer = test_data_male_gamer['purchase'].mean()\n",
    "control_purchase_rate_male_gamer = control_data_male_gamer['purchase'].mean()\n",
    "\n",
    "diff_male_gamer = abs(test_purchase_rate_male_gamer - control_purchase_rate_male_gamer)\n",
    "\n",
    "# Print the results\n",
    "print(\"\\nAverage purchase rate for the test group (male gamer customers):\", round(test_purchase_rate_male_gamer, 4))\n",
    "print(\"Average purchase rate for the control group (male gamer customers):\", round(control_purchase_rate_male_gamer, 4))\n",
    "print(\"Absolute difference between the test and control purchase rates (male gamer customers):\", round(diff_male_gamer, 4))\n"
   ]
  },
  {
   "cell_type": "markdown",
   "metadata": {},
   "source": [
    "Expected revenue in the test vs. control for the following comparisons"
   ]
  },
  {
   "cell_type": "code",
   "execution_count": 30,
   "metadata": {},
   "outputs": [
    {
     "name": "stdout",
     "output_type": "stream",
     "text": [
      "All Customers\n",
      "Expected total net revenue for test group (all customers): $ 26975.0\n",
      "Expected total net revenue for control group (all customers): $ 5412.5\n",
      "Net revenue difference (test - control, all customers): $ 21562.5\n",
      "\n",
      "Female and Male Gamers\n",
      "Expected total net revenue for test group (female gamers): $ 8250.0\n",
      "Expected total net revenue for control group (female gamers): $ 1012.5\n",
      "Net revenue difference (test - control, female gamers): $ 7237.5\n",
      "\n",
      "Expected total net revenue for test group (male gamers): $ 13812.5\n",
      "Expected total net revenue for control group (male gamers): $ 2175.0\n",
      "Net revenue difference (test - control, male gamers): $ 11637.5\n"
     ]
    }
   ],
   "source": [
    "import pandas as pd\n",
    "\n",
    "# Constants\n",
    "REVENUE_PER_CUSTOMER = 37.5\n",
    "CREDIT_OFFERED = 25\n",
    "NET_REVENUE_PER_CUSTOMER = REVENUE_PER_CUSTOMER - CREDIT_OFFERED  # $12.5\n",
    "\n",
    "## Calculation for All Customers\n",
    "# Number of purchases (assuming 'purchase' column is binary [0,1] where 1 indicates a purchase)\n",
    "num_purchases_test_all = test_data['purchase'].sum()\n",
    "num_purchases_control_all = control_data['purchase'].sum()\n",
    "\n",
    "# Total revenue calculation\n",
    "total_revenue_test_all = num_purchases_test_all * NET_REVENUE_PER_CUSTOMER\n",
    "total_revenue_control_all = num_purchases_control_all * NET_REVENUE_PER_CUSTOMER\n",
    "\n",
    "# Print results for all customers\n",
    "print(\"All Customers\")\n",
    "print(\"Expected total net revenue for test group (all customers): $\", total_revenue_test_all)\n",
    "print(\"Expected total net revenue for control group (all customers): $\", total_revenue_control_all)\n",
    "print(\"Net revenue difference (test - control, all customers): $\", total_revenue_test_all - total_revenue_control_all)\n",
    "\n",
    "## Calculation for Female and Male Gamers\n",
    "# Female Gamers\n",
    "num_purchases_test_female_gamer = test_data_female_gamer['purchase'].sum()\n",
    "num_purchases_control_female_gamer = control_data_female_gamer['purchase'].sum()\n",
    "\n",
    "# Male Gamers\n",
    "num_purchases_test_male_gamer = test_data_male_gamer['purchase'].sum()\n",
    "num_purchases_control_male_gamer = control_data_male_gamer['purchase'].sum()\n",
    "\n",
    "# Total revenue calculation - Female Gamers\n",
    "total_revenue_test_female_gamer = num_purchases_test_female_gamer * NET_REVENUE_PER_CUSTOMER\n",
    "total_revenue_control_female_gamer = num_purchases_control_female_gamer * NET_REVENUE_PER_CUSTOMER\n",
    "\n",
    "# Total revenue calculation - Male Gamers\n",
    "total_revenue_test_male_gamer = num_purchases_test_male_gamer * NET_REVENUE_PER_CUSTOMER\n",
    "total_revenue_control_male_gamer = num_purchases_control_male_gamer * NET_REVENUE_PER_CUSTOMER\n",
    "\n",
    "# Print results for female and male gamers\n",
    "print(\"\\nFemale and Male Gamers\")\n",
    "print(\"Expected total net revenue for test group (female gamers): $\", total_revenue_test_female_gamer)\n",
    "print(\"Expected total net revenue for control group (female gamers): $\", total_revenue_control_female_gamer)\n",
    "print(\"Net revenue difference (test - control, female gamers): $\", total_revenue_test_female_gamer - total_revenue_control_female_gamer)\n",
    "\n",
    "print(\"\\nExpected total net revenue for test group (male gamers): $\", total_revenue_test_male_gamer)\n",
    "print(\"Expected total net revenue for control group (male gamers): $\", total_revenue_control_male_gamer)\n",
    "print(\"Net revenue difference (test - control, male gamers): $\", total_revenue_test_male_gamer - total_revenue_control_male_gamer)\n"
   ]
  },
  {
   "cell_type": "markdown",
   "metadata": {},
   "source": [
    "Based on the promotional campaign analysis for Game-Fun, the financial outcomes indicate substantial gains in net revenue across different customer segments. The test groups, which were offered a $25 signing-up bonus to promote gaming subscription packages, demonstrated significantly higher revenue generation compared to the control groups. \n",
    "\n",
    "- **All Customers:** The test group generated $26,975 in net revenue, compared to $5,412.50 in the control group, resulting in a net revenue difference of $21,562.50. This suggests a robust overall effectiveness of the campaign in attracting new subscribers across the entire customer base.\n",
    "\n",
    "- **Female Gamers:** Among this targeted subgroup, the test group's net revenue was $8,250, compared to $1,012.50 in the control group, with a revenue difference of $7,237.50. Female gamers responded exceptionally well to the promotion, indicating high potential for targeted marketing strategies.\n",
    "\n",
    "- **Male Gamers:** The test group for male gamers brought in $13,812.50 in net revenue, while their control counterparts generated $2,175, showing a difference of $11,637.50. While the impact is also positive, it is slightly less pronounced compared to female gamers.\n",
    "\n",
    "Given these results, it is advisable for Game-Fun to not only continue this promotional strategy but also consider optimizing it by focusing more on targeted segments, particularly female gamers. \n",
    "\n",
    "This group has shown the highest relative increase in revenue contribution, highlighting their greater susceptibility to such marketing incentives. Implementing targeted promotions could further enhance efficiency, maximizing the return on marketing expenditures while fostering higher engagement and loyalty within this segment. Continuous monitoring and tweaking of the campaign based on detailed performance analytics would ensure sustained growth and profitability."
   ]
  },
  {
   "cell_type": "markdown",
   "metadata": {},
   "source": [
    "## Exercise 2: Non-Compliance in Randomized Experiments"
   ]
  },
  {
   "cell_type": "code",
   "execution_count": 11,
   "metadata": {},
   "outputs": [
    {
     "name": "stdout",
     "output_type": "stream",
     "text": [
      "   instrument  treatment  outcome\n",
      "0           0          0        0\n",
      "1           0          0        0\n",
      "2           0          0        0\n",
      "3           0          0        0\n",
      "4           0          0        0\n"
     ]
    }
   ],
   "source": [
    "import pandas as pd\n",
    "\n",
    "sommer_deger = pd.read_csv(\"sommer_deger.csv\")\n",
    "\n",
    "print(sommer_deger.head())\n"
   ]
  },
  {
   "cell_type": "code",
   "execution_count": 13,
   "metadata": {},
   "outputs": [
    {
     "name": "stdout",
     "output_type": "stream",
     "text": [
      "       instrument  treatment  outcome\n",
      "0               0          0        0\n",
      "1               0          0        0\n",
      "2               0          0        0\n",
      "3               0          0        0\n",
      "4               0          0        0\n",
      "...           ...        ...      ...\n",
      "23677           1          1        1\n",
      "23678           1          1        1\n",
      "23679           1          1        1\n",
      "23680           1          1        1\n",
      "23681           1          1        1\n",
      "\n",
      "[23682 rows x 3 columns]\n"
     ]
    }
   ],
   "source": [
    "print(sommer_deger)"
   ]
  },
  {
   "cell_type": "markdown",
   "metadata": {},
   "source": [
    "Comparing Survival Rates Based on Offered Vitamin A Shots"
   ]
  },
  {
   "cell_type": "code",
   "execution_count": 14,
   "metadata": {},
   "outputs": [
    {
     "name": "stdout",
     "output_type": "stream",
     "text": [
      "Percent of babies whose mothers were offered Vitamin A shots for their babies and died: 0.38%\n",
      "Percent of babies whose mothers were not offered Vitamin A shots for their babies and died: 0.64%\n",
      "Difference in mortality: -0.26%\n",
      "\n",
      " Assumptions: The validity of using the difference in mortality rates between the Vitamin A shot and control groups as an estimate of the causal impact of the treatment on survival depends on the assumption that there are no confounding variables. This means that the only difference between the two groups is whether the mothers were offered the shot or not. If there are other factors that affect both the treatment assignment and the outcome variables, such as mother's education, socio-economic status, or past health history, the estimate may be biased and the method may not be appropriate.\n",
      "\n",
      " Insights: The difference in mortality between babies whose mothers were offered Vitamin A shots and those who were not offered was -0.258%, indicating that the babies whose mothers were offered Vitamin A shots faced a lower mortality rate than those who were not offered. To ensure that this difference is a valid estimate of the causal impact of receiving Vitamin A shots on survival, we need to assume that the groups are comparable, all mothers who were offered Vitamin A shots actually took them, there were no spillover effects, SUTVA held, and there was no missing data.\n"
     ]
    }
   ],
   "source": [
    "#  percent of babies whose mothers were offered Vitamin A shots for their babies and died\n",
    "offered_died = sommer_deger[sommer_deger['instrument'] == 1]['outcome'].mean()\n",
    "\n",
    "# percent of babies whose mothers were not offered Vitamin A shots for their babies and died\n",
    "not_offered_died = sommer_deger[sommer_deger['instrument'] == 0]['outcome'].mean()\n",
    "\n",
    "# difference in mortality\n",
    "diff_mortality = offered_died - not_offered_died\n",
    "\n",
    "print(f\"Percent of babies whose mothers were offered Vitamin A shots for their babies and died: {offered_died * 100:.2f}%\")\n",
    "print(f\"Percent of babies whose mothers were not offered Vitamin A shots for their babies and died: {not_offered_died * 100:.2f}%\")\n",
    "print(f\"Difference in mortality: {diff_mortality * 100:.2f}%\")\n",
    "\n",
    "# Assumptions\n",
    "print(\"\\n Assumptions: The validity of using the difference in mortality rates between the Vitamin A shot and control groups as an estimate of the causal impact of the treatment on survival depends on the assumption that there are no confounding variables. This means that the only difference between the two groups is whether the mothers were offered the shot or not. If there are other factors that affect both the treatment assignment and the outcome variables, such as mother's education, socio-economic status, or past health history, the estimate may be biased and the method may not be appropriate.\")\n",
    "\n",
    "# Insights\n",
    "print(\"\\n Insights: The difference in mortality between babies whose mothers were offered Vitamin A shots and those who were not offered was -0.258%, indicating that the babies whose mothers were offered Vitamin A shots faced a lower mortality rate than those who were not offered. To ensure that this difference is a valid estimate of the causal impact of receiving Vitamin A shots on survival, we need to assume that the groups are comparable, all mothers who were offered Vitamin A shots actually took them, there were no spillover effects, SUTVA held, and there was no missing data.\")\n"
   ]
  },
  {
   "cell_type": "markdown",
   "metadata": {},
   "source": [
    "Comparing Survival Rates Based on Actual Vitamin A Shot Receipt"
   ]
  },
  {
   "cell_type": "code",
   "execution_count": 17,
   "metadata": {},
   "outputs": [
    {
     "name": "stdout",
     "output_type": "stream",
     "text": [
      "Percent of babies who received Vitamin A shots and died: 0.12%\n",
      "Percent of babies who did not receive Vitamin A shots and died: 0.77%\n",
      "Difference in mortality: -0.65%\n",
      "\n",
      "Assumptions: As discussed earlier, a valid estimate of the causal impact of Vitamin A shots on survival can be obtained under the assumption that there are no confounding factors. However, in the context of this particular dataset, there is a one-sided compliance issue, where some mothers in the treatment group did not receive the Vitamin A shot as intended. This non-compliance may lead to biased estimates and therefore, the difference in mortality rates between the treatment and control groups may not be the appropriate approach for this analysis. Alternative methods, such as instrumental variable analysis, may be required to account for the compliance issue and provide more reliable estimates of the causal effect of Vitamin A shots on survival.\n",
      "\n",
      "Insights: The difference in mortality between those who received Vitamin A shots and those who did not is -0.644%, suggesting that babies who received Vitamin A shots experienced a lower mortality rate than those who did not receive the shot. To consider this estimate valid, we must assume randomization of subjects, no spillover effects, SUTVA, and no missing data.\n"
     ]
    }
   ],
   "source": [
    "#  percent of babies who received Vitamin A shots and died\n",
    "received_died = sommer_deger[sommer_deger['treatment'] == 1]['outcome'].mean()\n",
    "\n",
    "#  percent of babies who did not receive Vitamin A shots and died\n",
    "not_received_died = sommer_deger[sommer_deger['treatment'] == 0]['outcome'].mean()\n",
    "\n",
    "# Calculate the difference in mortality\n",
    "diff_mortality = received_died - not_received_died\n",
    "\n",
    "print(f\"Percent of babies who received Vitamin A shots and died: {received_died * 100:.2f}%\")\n",
    "print(f\"Percent of babies who did not receive Vitamin A shots and died: {not_received_died * 100:.2f}%\")\n",
    "print(f\"Difference in mortality: {diff_mortality * 100:.2f}%\")\n",
    "\n",
    "# Assumptions\n",
    "print(\"\\nAssumptions: As discussed earlier, a valid estimate of the causal impact of Vitamin A shots on survival can be obtained under the assumption that there are no confounding factors. However, in the context of this particular dataset, there is a one-sided compliance issue, where some mothers in the treatment group did not receive the Vitamin A shot as intended. This non-compliance may lead to biased estimates and therefore, the difference in mortality rates between the treatment and control groups may not be the appropriate approach for this analysis. Alternative methods, such as instrumental variable analysis, may be required to account for the compliance issue and provide more reliable estimates of the causal effect of Vitamin A shots on survival.\")\n",
    "\n",
    "# Insights\n",
    "print(\"\\nInsights: The difference in mortality between those who received Vitamin A shots and those who did not is -0.644%, suggesting that babies who received Vitamin A shots experienced a lower mortality rate than those who did not receive the shot. To consider this estimate valid, we must assume randomization of subjects, no spillover effects, SUTVA, and no missing data.\")\n"
   ]
  },
  {
   "cell_type": "markdown",
   "metadata": {},
   "source": [
    "Assessing Mortality Differences in Offered Vitamin A Shot"
   ]
  },
  {
   "cell_type": "code",
   "execution_count": 19,
   "metadata": {},
   "outputs": [
    {
     "name": "stdout",
     "output_type": "stream",
     "text": [
      "Difference in mortality: -1.28%\n",
      "The difference in mortality between those who received Vitamin A shots and those who did not receive them is -1.28%\n",
      "\n",
      " Assumptions:  The validity of the estimate of the causal impact of Vitamin A shots on survival depends on the assumption that the only difference between the treatment and control groups is the receipt of the shot...\n",
      "\n",
      " Insights: Comparing the mortality rates of babies who received Vitamin A shots versus those who did not, under the assumption that only mothers who were offered Vitamin A shots were considered, the difference in mortality is -1.28%...\n"
     ]
    }
   ],
   "source": [
    "# only babies whose mothers were offered Vitamin A shots,\n",
    "\n",
    "# Subset data for those offered Vitamin A shots\n",
    "offered_vitamin = sommer_deger[sommer_deger['instrument'] == 1]\n",
    "\n",
    "# Calculate mortality percentages for those who received and didn't receive the shot\n",
    "vitaminA_shot_died = offered_vitamin[offered_vitamin['treatment'] == 1]['outcome'].mean() * 100\n",
    "no_vitaminA_shot_died = offered_vitamin[offered_vitamin['treatment'] == 0]['outcome'].mean() * 100\n",
    "\n",
    "# Difference in mortality\n",
    "diff_mortality_offered = vitaminA_shot_died - no_vitaminA_shot_died\n",
    "print(f\"Difference in mortality: {diff_mortality_offered:.2f}%\")\n",
    "print(f\"The difference in mortality between those who received Vitamin A shots and those who did not receive them is {diff_mortality_offered:.2f}%\")\n",
    "\n",
    "# Assumptions\n",
    "print(\"\\n Assumptions:  The validity of the estimate of the causal impact of Vitamin A shots on survival depends on the assumption that the only difference between the treatment and control groups is the receipt of the shot...\")\n",
    "\n",
    "# Insights\n",
    "print(\"\\n Insights: Comparing the mortality rates of babies who received Vitamin A shots versus those who did not, under the assumption that only mothers who were offered Vitamin A shots were considered, the difference in mortality is -1.28%...\")\n"
   ]
  },
  {
   "cell_type": "markdown",
   "metadata": {},
   "source": [
    "Wald Estimator"
   ]
  },
  {
   "cell_type": "code",
   "execution_count": 21,
   "metadata": {},
   "outputs": [
    {
     "name": "stdout",
     "output_type": "stream",
     "text": [
      "the wald estimate is -0.003228 percent\n",
      "\n",
      "Assumptions: The Wald estimator can provide a valid estimate of the causal impact of vitamin A shots on survival under the assumption of no confounding and that the treatment assignment is independent of potential outcomes, given the covariates used in the analysis. However, if any of these assumptions are violated, such as the presence of unmeasured variables associated with both the treatment and outcome, the estimate may be biased and unreliable. Therefore, caution must be exercised, and alternative methods like IV's must be considered\n",
      "\n",
      " The standard error for Intent-To-Treat estimate is 0.0009278269110806206\n",
      "The standard error for Wald estimate is 0.0008211357141670643\n",
      "The Wald standard error is typically higher than the ITT error due to potential weak instrument problems or heterogeneous treatment effects across the population...\n"
     ]
    }
   ],
   "source": [
    "from statsmodels.formula.api import ols\n",
    "import statsmodels.api as sm\n",
    "\n",
    "# Calculate percentages directly using mean on the filtered data\n",
    "percentage_babies_offered_died = offered_vitamin['outcome'].mean() * 100\n",
    "percentage_babies_not_offered_died = sommer_deger[sommer_deger['instrument'] == 0]['outcome'].mean() * 100\n",
    "\n",
    "# Offered and received Vitamin A\n",
    "offered_received_vitamin = offered_vitamin['treatment'].mean() * 100\n",
    "\n",
    "# Wald Estimate\n",
    "wald_estimate = (percentage_babies_offered_died - percentage_babies_not_offered_died) / offered_received_vitamin\n",
    "print(f\"the wald estimate is {wald_estimate:.6f} percent\")\n",
    "\n",
    "# 4B\n",
    "print(\"\\nAssumptions: The Wald estimator can provide a valid estimate of the causal impact of vitamin A shots on survival under the assumption of no confounding and that the treatment assignment is independent of potential outcomes, given the covariates used in the analysis. However, if any of these assumptions are violated, such as the presence of unmeasured variables associated with both the treatment and outcome, the estimate may be biased and unreliable. Therefore, caution must be exercised, and alternative methods like IV's must be considered\")\n",
    "\n",
    "# Wald Standard Errors\n",
    "model_intent_to_treat = ols('outcome ~ instrument', data=sommer_deger).fit(cov_type='HC0')\n",
    "model_se = model_intent_to_treat.bse['instrument']\n",
    "print(f\"\\nThe standard error for Intent-To-Treat estimate is {model_se}\")\n",
    "\n",
    "model_wald_est = ols('outcome ~ treatment', data=sommer_deger).fit(cov_type='HC0')\n",
    "wald_est_se = model_wald_est.bse['treatment']\n",
    "print(f\"The standard error for Wald estimate is {wald_est_se}\")\n",
    "\n",
    "# Insights\n",
    "print(\"The Wald SE is typically higher than the ITT error due to potential weak instrument problems or heterogeneous treatment effects across the population. The ITT estimate considers both compliers and non-compliers and may introduce additional noise leading to higher standard errors. On the other hand, the Wald estimate focuses on a more homogenous complier population and may result in lower standard errors. However, if the exclusion or independence assumptions are violated, the estimated standard errors might be biased and may not accurately capture the true variability in the treatment effect estimates. To address these issues, we may need additional information about potential confounding factors, implement randomized control trials or use alternative instruments or clustered standard errors estimates.\")\n"
   ]
  }
 ],
 "metadata": {
  "kernelspec": {
   "display_name": "Python 3 (ipykernel)",
   "language": "python",
   "name": "python3"
  },
  "language_info": {
   "codemirror_mode": {
    "name": "ipython",
    "version": 3
   },
   "file_extension": ".py",
   "mimetype": "text/x-python",
   "name": "python",
   "nbconvert_exporter": "python",
   "pygments_lexer": "ipython3",
   "version": "3.11.5"
  }
 },
 "nbformat": 4,
 "nbformat_minor": 2
}
